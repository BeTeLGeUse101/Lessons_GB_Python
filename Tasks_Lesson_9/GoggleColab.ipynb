{
  "cells": [
    {
      "cell_type": "markdown",
      "metadata": {
        "id": "MBIgOxT1VEW-"
      },
      "source": [
        "# Задача 1: Импортируем библиотеку Pandas для работы с табличными данными, далее записываем таблицу с данными california_housing_train.csv в переменную df:"
      ]
    },
    {
      "cell_type": "code",
      "execution_count": null,
      "metadata": {
        "colab": {
          "base_uri": "https://localhost:8080/",
          "height": 424
        },
        "id": "GZBD7ibBQ_CP",
        "outputId": "726c43e6-f0ab-4dbd-e99d-c88099d8e271"
      },
      "outputs": [],
      "source": [
        "import pandas as pd\n",
        "df = pd.read_csv('sample_data/california_housing_train.csv')\n",
        "df"
      ]
    },
    {
      "cell_type": "code",
      "execution_count": null,
      "metadata": {},
      "outputs": [],
      "source": [
        "# этот код для локальной папки из компьютера\n",
        "import pandas as pd\n",
        "df = pd.read_csv('C:/Users/super/OneDrive/Рабочий стол/Учёба/Знакомство с языком программирования Python/Задания/Lessons_GB_Python/Tasks_Lesson_9/california_housing_train.csv')\n",
        "df"
      ]
    },
    {
      "cell_type": "markdown",
      "metadata": {
        "id": "-vTAGf_OUnVR"
      },
      "source": [
        "# Сортируем таблицу по популяции людей от 0 до 500 и находим в этом промежутке среднюю стоимость дома:"
      ]
    },
    {
      "cell_type": "code",
      "execution_count": null,
      "metadata": {
        "colab": {
          "base_uri": "https://localhost:8080/",
          "height": 0
        },
        "id": "V_Kq5c_XSOon",
        "outputId": "b7045113-3fa8-4c64-e81f-a996109b97db"
      },
      "outputs": [],
      "source": [
        "sortPopulationDf = df[df['population'] < 501]\n",
        "sortPopulationDf"
      ]
    },
    {
      "cell_type": "code",
      "execution_count": null,
      "metadata": {
        "colab": {
          "base_uri": "https://localhost:8080/"
        },
        "id": "E-ifHI6QXJnE",
        "outputId": "a91e3789-a860-4547-bf90-151ac2172ce9"
      },
      "outputs": [],
      "source": [
        "round(sortPopulationDf['median_house_value'].mean(), 2)"
      ]
    },
    {
      "cell_type": "markdown",
      "metadata": {
        "id": "7WYkTEtjWakd"
      },
      "source": []
    },
    {
      "cell_type": "markdown",
      "metadata": {
        "id": "Vy1U5w5gYkdd"
      },
      "source": [
        "# Задача 2: Узнаем максимальное значение households в зоне минимального значения population:"
      ]
    },
    {
      "cell_type": "code",
      "execution_count": null,
      "metadata": {
        "id": "6G22fI74ZUcX"
      },
      "outputs": [],
      "source": [
        "min = df['population'].min()\n",
        "min"
      ]
    },
    {
      "cell_type": "code",
      "execution_count": null,
      "metadata": {},
      "outputs": [],
      "source": [
        "minPopDF = df[df['population'] == min]\n",
        "df[df['population'] == min]"
      ]
    },
    {
      "cell_type": "code",
      "execution_count": null,
      "metadata": {},
      "outputs": [],
      "source": [
        "max = minPopDF['households'].max()\n",
        "max"
      ]
    },
    {
      "cell_type": "code",
      "execution_count": null,
      "metadata": {},
      "outputs": [],
      "source": [
        "# так же я подумал сделать такой вариант, но он не находит строку из таблицы по требованиям\n",
        "result = df[(df['households'] == df['households'].max()) & (df['population'] == df['population'].min())]\n",
        "result"
      ]
    }
  ],
  "metadata": {
    "colab": {
      "collapsed_sections": [
        "-vTAGf_OUnVR"
      ],
      "provenance": []
    },
    "kernelspec": {
      "display_name": "Python 3",
      "name": "python3"
    },
    "language_info": {
      "codemirror_mode": {
        "name": "ipython",
        "version": 3
      },
      "file_extension": ".py",
      "mimetype": "text/x-python",
      "name": "python",
      "nbconvert_exporter": "python",
      "pygments_lexer": "ipython3",
      "version": "3.10.6"
    }
  },
  "nbformat": 4,
  "nbformat_minor": 0
}
