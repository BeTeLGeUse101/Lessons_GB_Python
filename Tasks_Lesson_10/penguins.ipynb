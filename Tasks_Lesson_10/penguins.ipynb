{
  "cells": [
    {
      "attachments": {},
      "cell_type": "markdown",
      "metadata": {
        "id": "JTeShZKwXRAO"
      },
      "source": [
        "# Импортируем библиотеки pandas, seaborn и загружаем dataframe c пингвинами:"
      ]
    },
    {
      "cell_type": "code",
      "execution_count": null,
      "metadata": {
        "id": "J8j3dIoFHzft"
      },
      "outputs": [],
      "source": [
        "import pandas as pd\n",
        "import seaborn as sns\n",
        "import random"
      ]
    },
    {
      "cell_type": "code",
      "execution_count": null,
      "metadata": {
        "id": "vL9KweQVH8q7"
      },
      "outputs": [],
      "source": [
        "penguins = sns.load_dataset(\"penguins\")\n",
        "penguins.head()"
      ]
    },
    {
      "cell_type": "markdown",
      "metadata": {
        "id": "whSN-xkjYB5e"
      },
      "source": [
        "# Далее, создаем новый столбец с показателями длины клюва:"
      ]
    },
    {
      "cell_type": "code",
      "execution_count": null,
      "metadata": {
        "id": "7uDJi9J6gOem"
      },
      "outputs": [],
      "source": [
        "penguins.insert(7, \"beak length\", [random.randint(1, 60) for i in range(0, penguins.shape[0])], True)\n",
        "penguins.tail()"
      ]
    },
    {
      "cell_type": "markdown",
      "metadata": {
        "id": "aN3TCshA0Lut"
      },
      "source": [
        "# И в заключении, создаем показатели типа клюва на основе их длины:"
      ]
    },
    {
      "cell_type": "code",
      "execution_count": null,
      "metadata": {
        "id": "7-i0zBWvV0Fn"
      },
      "outputs": [],
      "source": [
        "massTypes = list()\n",
        "\n",
        "for i in range(0, penguins.shape[0]):\n",
        "  if penguins['beak length'].values[i] > 42:\n",
        "    massTypes.append(\"high\")\n",
        "  elif (penguins['beak length'].values[i] < 42) & (penguins['beak length'].values[i] > 35):\n",
        "    massTypes.append(\"middle\")\n",
        "  else:\n",
        "    massTypes.append(\"low\")"
      ]
    },
    {
      "cell_type": "code",
      "execution_count": null,
      "metadata": {
        "id": "_tGoyUzBtAr8"
      },
      "outputs": [],
      "source": [
        "penguins.insert(8, \"type beak\", [i for i in massTypes], True)\n",
        "penguins.head(20)"
      ]
    }
  ],
  "metadata": {
    "colab": {
      "provenance": []
    },
    "kernelspec": {
      "display_name": "Python 3",
      "name": "python3"
    },
    "language_info": {
      "codemirror_mode": {
        "name": "ipython",
        "version": 3
      },
      "file_extension": ".py",
      "mimetype": "text/x-python",
      "name": "python",
      "nbconvert_exporter": "python",
      "pygments_lexer": "ipython3",
      "version": "3.10.6"
    }
  },
  "nbformat": 4,
  "nbformat_minor": 0
}
