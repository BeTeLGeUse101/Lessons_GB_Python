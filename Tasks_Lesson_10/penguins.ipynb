{
  "nbformat": 4,
  "nbformat_minor": 0,
  "metadata": {
    "colab": {
      "provenance": []
    },
    "kernelspec": {
      "name": "python3",
      "display_name": "Python 3"
    },
    "language_info": {
      "name": "python"
    }
  },
  "cells": [
    {
      "cell_type": "markdown",
      "source": [
        "# Ипортируем библиотеки pasdas, seaborn и загружаем dataframe c пингвинами:"
      ],
      "metadata": {
        "id": "JTeShZKwXRAO"
      }
    },
    {
      "cell_type": "code",
      "execution_count": 61,
      "metadata": {
        "id": "J8j3dIoFHzft"
      },
      "outputs": [],
      "source": [
        "import pandas as pd\n",
        "import seaborn as sns\n",
        "import random"
      ]
    },
    {
      "cell_type": "code",
      "source": [
        "penguins = sns.load_dataset(\"penguins\")\n",
        "penguins.head()"
      ],
      "metadata": {
        "id": "vL9KweQVH8q7"
      },
      "execution_count": null,
      "outputs": []
    },
    {
      "cell_type": "markdown",
      "source": [
        "# Далее, создаем новый столбец с показателями длины клюва:"
      ],
      "metadata": {
        "id": "whSN-xkjYB5e"
      }
    },
    {
      "cell_type": "code",
      "source": [
        "penguins.insert(7, \"beak length\", [random.randint(1, 60) for i in range(0, penguins.shape[0])], True)\n",
        "penguins.tail()"
      ],
      "metadata": {
        "id": "7uDJi9J6gOem"
      },
      "execution_count": null,
      "outputs": []
    },
    {
      "cell_type": "markdown",
      "source": [
        "# И в заключении, создаем показатели типа клюва на основе их длины:"
      ],
      "metadata": {
        "id": "aN3TCshA0Lut"
      }
    },
    {
      "cell_type": "code",
      "source": [
        "massTypes = list()\n",
        "\n",
        "for i in range(0, penguins.shape[0]):\n",
        "  if penguins['beak length'].values[i] > 42:\n",
        "    massTypes.append(\"high\")\n",
        "  elif (penguins['beak length'].values[i] < 42) & (penguins['beak length'].values[i] > 35):\n",
        "    massTypes.append(\"middle\")\n",
        "  else:\n",
        "    massTypes.append(\"low\")"
      ],
      "metadata": {
        "id": "7-i0zBWvV0Fn"
      },
      "execution_count": 106,
      "outputs": []
    },
    {
      "cell_type": "code",
      "source": [
        "penguins.insert(8, \"type beak\", [i for i in massTypes], True)\n",
        "penguins.head(20)"
      ],
      "metadata": {
        "id": "_tGoyUzBtAr8"
      },
      "execution_count": null,
      "outputs": []
    }
  ]
}